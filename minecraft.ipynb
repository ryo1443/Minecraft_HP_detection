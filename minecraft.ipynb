{
 "cells": [
  {
   "cell_type": "code",
   "execution_count": 5,
   "metadata": {},
   "outputs": [
    {
     "name": "stdout",
     "output_type": "stream",
     "text": [
      "Collecting opencv-python\n",
      "  Downloading opencv_python-4.7.0.68-cp37-abi3-win_amd64.whl (38.2 MB)\n",
      "     --------------------------------------- 38.2/38.2 MB 17.7 MB/s eta 0:00:00\n",
      "Collecting numpy>=1.19.3\n",
      "  Downloading numpy-1.24.1-cp310-cp310-win_amd64.whl (14.8 MB)\n",
      "     --------------------------------------- 14.8/14.8 MB 20.5 MB/s eta 0:00:00\n",
      "Installing collected packages: numpy, opencv-python\n",
      "Successfully installed numpy-1.24.1 opencv-python-4.7.0.68\n"
     ]
    },
    {
     "name": "stderr",
     "output_type": "stream",
     "text": [
      "  WARNING: The script f2py.exe is installed in 'C:\\Users\\ryo12\\AppData\\Local\\Packages\\PythonSoftwareFoundation.Python.3.10_qbz5n2kfra8p0\\LocalCache\\local-packages\\Python310\\Scripts' which is not on PATH.\n",
      "  Consider adding this directory to PATH or, if you prefer to suppress this warning, use --no-warn-script-location.\n"
     ]
    }
   ],
   "source": [
    "!pip install opencv-python"
   ]
  },
  {
   "cell_type": "code",
   "execution_count": 24,
   "metadata": {},
   "outputs": [],
   "source": [
    "import cv2\n",
    "import numpy as np\n",
    "\n",
    "path = \"1366×768 minecraft image path (sample heart1 or heart9)\"\n",
    "file_name=path\n",
    "img=cv2.imread(file_name,cv2.IMREAD_COLOR)\n",
    "img=cv2.resize(img,(1700,1000))"
   ]
  },
  {
   "cell_type": "code",
   "execution_count": 26,
   "metadata": {},
   "outputs": [],
   "source": [
    "def detect_heart(img):\n",
    "\n",
    "    img_tmp = np.copy(img)\n",
    "\n",
    "    if (img_tmp[909, 812, :] == np.array([19, 19, 255])).all():\n",
    "        print(\"ハート10個\")\n",
    "    elif (img_tmp[909, 793, :] == np.array([19, 19, 255])).all():\n",
    "        print(\"ハート9個\")\n",
    "    elif (img_tmp[909, 772, :] == np.array([19, 19, 255])).all():\n",
    "        print(\"ハート8個\")\n",
    "    elif (img[909, 754, :] == np.array([19, 19, 255])).all():\n",
    "        print(\"ハート7個\")\n",
    "    elif (img[909, 733, :] == np.array([19, 19, 255])).all():\n",
    "        print(\"ハート6個\")\n",
    "    elif (img[909, 715, :] == np.array([19, 19, 255])).all():\n",
    "        print(\"ハート5個\")\n",
    "    elif (img[909, 693, :] == np.array([19, 19, 255])).all():\n",
    "        print(\"ハート4個\")\n",
    "    elif (img[909, 674, :] == np.array([19, 19, 255])).all():\n",
    "        print(\"ハート3個\")\n",
    "    elif (img[909, 653, :] == np.array([19, 19, 255])).all():\n",
    "        print(\"ハート2個\")\n",
    "    elif (img[909, 632, :] == np.array([19, 19, 255])).all():\n",
    "        print(\"ハート1個\")\n",
    "    else:\n",
    "        print(\"dead\")"
   ]
  },
  {
   "cell_type": "code",
   "execution_count": 25,
   "metadata": {},
   "outputs": [
    {
     "name": "stdout",
     "output_type": "stream",
     "text": [
      "[40 40 40]\n",
      "ハート1個\n"
     ]
    }
   ],
   "source": [
    "detect_heart(img)"
   ]
  },
  {
   "attachments": {},
   "cell_type": "markdown",
   "metadata": {},
   "source": [
    "# Appendix 座標とカラーコードの取得"
   ]
  },
  {
   "cell_type": "code",
   "execution_count": null,
   "metadata": {},
   "outputs": [],
   "source": [
    "def click_pos(event, x, y, flags, params):\n",
    "    if event == cv2.EVENT_LBUTTONDOWN:\n",
    "        img2=np.copy(img)\n",
    "        cv2.circle(img2,center=(x,y),radius=1,color=(0,0,0),thickness=-1)\n",
    "        B,G,R=img[y,x,:]\n",
    "        bgr_str='(B,G,R)=('+str(B)+','+str(G)+','+str(R)+')'\n",
    "        \n",
    "        print(bgr_str)\n",
    "        print(\"座標: (\", x, \",\", y, \")\")\n",
    "\n",
    "        cv2.putText(img2,bgr_str,(30, 50),cv2.FONT_HERSHEY_PLAIN,2,(0,0,0),2,cv2.LINE_AA)\n",
    "        cv2.imshow('window', img2)\n",
    "        \n",
    "cv2.imshow('window', img)\n",
    "cv2.setMouseCallback('window', click_pos)\n",
    "cv2.waitKey(0)\n",
    "cv2.destroyAllWindows()"
   ]
  }
 ],
 "metadata": {
  "kernelspec": {
   "display_name": "Python 3",
   "language": "python",
   "name": "python3"
  },
  "language_info": {
   "codemirror_mode": {
    "name": "ipython",
    "version": 3
   },
   "file_extension": ".py",
   "mimetype": "text/x-python",
   "name": "python",
   "nbconvert_exporter": "python",
   "pygments_lexer": "ipython3",
   "version": "3.10.9"
  },
  "orig_nbformat": 4,
  "vscode": {
   "interpreter": {
    "hash": "20262f14b43c050a2504dc50730ab739db75a4eb46aa1622291d48657065d93d"
   }
  }
 },
 "nbformat": 4,
 "nbformat_minor": 2
}
